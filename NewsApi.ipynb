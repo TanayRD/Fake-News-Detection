{
 "cells": [
  {
   "cell_type": "code",
   "execution_count": 1,
   "metadata": {},
   "outputs": [
    {
     "name": "stdout",
     "output_type": "stream",
     "text": [
      "Collecting newsapi-python\n",
      "  Downloading newsapi_python-0.2.6-py2.py3-none-any.whl (7.9 kB)\n",
      "Requirement already satisfied: requests<3.0.0 in c:\\users\\dell\\anaconda\\lib\\site-packages (from newsapi-python) (2.24.0)Note: you may need to restart the kernel to use updated packages.\n",
      "\n",
      "Requirement already satisfied: urllib3!=1.25.0,!=1.25.1,<1.26,>=1.21.1 in c:\\users\\dell\\anaconda\\lib\\site-packages (from requests<3.0.0->newsapi-python) (1.25.9)\n",
      "Requirement already satisfied: chardet<4,>=3.0.2 in c:\\users\\dell\\anaconda\\lib\\site-packages (from requests<3.0.0->newsapi-python) (3.0.4)\n",
      "Requirement already satisfied: idna<3,>=2.5 in c:\\users\\dell\\anaconda\\lib\\site-packages (from requests<3.0.0->newsapi-python) (2.10)\n",
      "Requirement already satisfied: certifi>=2017.4.17 in c:\\users\\dell\\anaconda\\lib\\site-packages (from requests<3.0.0->newsapi-python) (2020.6.20)\n",
      "Installing collected packages: newsapi-python\n",
      "Successfully installed newsapi-python-0.2.6\n"
     ]
    }
   ],
   "source": [
    "pip install newsapi-python"
   ]
  },
  {
   "cell_type": "code",
   "execution_count": 6,
   "metadata": {},
   "outputs": [],
   "source": [
    "stopwords= set(['br', 'the', 'i', 'me', 'my', 'myself', 'we', 'our', 'ours', 'ourselves', 'you', \"you're\", \"you've\",\\\n",
    "            \"you'll\", \"you'd\", 'your', 'yours', 'yourself', 'yourselves', 'he', 'him', 'his', 'himself', \\\n",
    "            'she', \"she's\", 'her', 'hers', 'herself', 'it', \"it's\", 'its', 'itself', 'they', 'them', 'their',\\\n",
    "            'theirs', 'themselves', 'what', 'which', 'who', 'whom', 'this', 'that', \"that'll\", 'these', 'those', \\\n",
    "            'am', 'is', 'are', 'was', 'were', 'be', 'been', 'being', 'have', 'has', 'had', 'having', 'do', 'does', \\\n",
    "            'did', 'doing', 'a', 'an', 'the', 'and', 'but', 'if', 'or', 'because', 'as', 'until', 'while', 'of', \\\n",
    "            'at', 'by', 'for', 'with', 'about', 'against', 'between', 'into', 'through', 'during', 'before', 'after',\\\n",
    "            'above', 'below', 'to', 'from', 'up', 'down', 'in', 'out', 'on', 'off', 'over', 'under', 'again', 'further',\\\n",
    "            'then', 'once', 'here', 'there', 'when', 'where', 'why', 'how', 'all', 'any', 'both', 'each', 'few', 'more',\\\n",
    "            'most', 'other', 'some', 'such', 'only', 'own', 'same', 'so', 'than', 'too', 'very', \\\n",
    "            's', 't', 'can', 'will', 'just', 'don', \"don't\", 'should', \"should've\", 'now', 'd', 'll', 'm', 'o', 're', \\\n",
    "            've', 'y', 'ain', 'aren', \"aren't\", 'couldn', \"couldn't\", 'didn', \"didn't\", 'doesn', \"doesn't\", 'hadn',\\\n",
    "            \"hadn't\", 'hasn', \"hasn't\", 'haven', \"haven't\", 'isn', \"isn't\", 'ma', 'mightn', \"mightn't\", 'mustn',\\\n",
    "            \"mustn't\", 'needn', \"needn't\", 'shan', \"shan't\", 'shouldn', \"shouldn't\", 'wasn', \"wasn't\", 'weren', \"weren't\", \\\n",
    "            'won', \"won't\", 'wouldn', \"wouldn't\"])\n",
    "punctuations=['!','()','[]','{}',';',':',',','<>','.','?','@','#','&','*','_','~']"
   ]
  },
  {
   "cell_type": "code",
   "execution_count": 48,
   "metadata": {},
   "outputs": [],
   "source": [
    "def removeExtra(opinion):\n",
    "    opinion=\" \".join(word for word in opinion.split(\" \") if word not in punctuations)#remove stopwords\n",
    "    opinion =\" \".join(word for word in opinion.split(\" \") if word not in stopwords)#remove punctuation\n",
    "    #remove words with numbers python\n",
    "    opinion = re.sub(\"\\S*\\d\\S*\", \"\",opinion).strip()\n",
    "    return opinion"
   ]
  },
  {
   "cell_type": "code",
   "execution_count": 28,
   "metadata": {},
   "outputs": [
    {
     "name": "stdout",
     "output_type": "stream",
     "text": [
      "NBFC crisis could accentuate contagion risk in financial sector. Cabinet committee on investment and growth must address it.\n",
      "After processing: NBFC crisis could accentuate contagion risk in financial sector. Cabinet committee on investment and growth must address it.\n"
     ]
    }
   ],
   "source": [
    "opinion=input()\n",
    "#opinion=removeExtra(opinion)\n",
    "print(f\"After processing: {opinion}\")"
   ]
  },
  {
   "cell_type": "code",
   "execution_count": 46,
   "metadata": {},
   "outputs": [],
   "source": [
    "from newsapi import NewsApiClient\n",
    "newsapi = NewsApiClient(api_key='7e3d2e1197dd40a88f639d8de070161a')\n",
    "\n",
    "# # /v2/top-headlines\n",
    "# top_headlines = newsapi.get_top_headlines(q='bitcoin',\n",
    "#                                           sources='bbc-news,the-verge',\n",
    "#                                           category='business',\n",
    "#                                           language='en',\n",
    "#                                           country='us')\n",
    "\n",
    "# /v2/everything\n",
    "all_articles = newsapi.get_everything(q='\"NBFC crisis could accentuate contagion risk in financial sector\"',\n",
    "                                     \n",
    "                                      \n",
    "                                      language='en',\n",
    "                                      sort_by='relevancy',\n",
    "                                      page=1)\n",
    "\n",
    "# # /v2/sources\n",
    "# sources = newsapi.get_sources()"
   ]
  },
  {
   "cell_type": "code",
   "execution_count": 47,
   "metadata": {},
   "outputs": [
    {
     "data": {
      "text/plain": [
       "{'status': 'ok', 'totalResults': 0, 'articles': []}"
      ]
     },
     "execution_count": 47,
     "metadata": {},
     "output_type": "execute_result"
    }
   ],
   "source": [
    "all_articles"
   ]
  },
  {
   "cell_type": "code",
   "execution_count": null,
   "metadata": {},
   "outputs": [],
   "source": []
  }
 ],
 "metadata": {
  "kernelspec": {
   "display_name": "Python 3",
   "language": "python",
   "name": "python3"
  },
  "language_info": {
   "codemirror_mode": {
    "name": "ipython",
    "version": 3
   },
   "file_extension": ".py",
   "mimetype": "text/x-python",
   "name": "python",
   "nbconvert_exporter": "python",
   "pygments_lexer": "ipython3",
   "version": "3.8.3"
  }
 },
 "nbformat": 4,
 "nbformat_minor": 4
}
